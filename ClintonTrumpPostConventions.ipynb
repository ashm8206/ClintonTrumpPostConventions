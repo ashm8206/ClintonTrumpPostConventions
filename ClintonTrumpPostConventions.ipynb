{
 "cells": [
  {
   "cell_type": "code",
   "execution_count": 2,
   "metadata": {
    "collapsed": false
   },
   "outputs": [
    {
     "data": {
      "text/plain": [
       "(4402, 15)"
      ]
     },
     "execution_count": 2,
     "metadata": {},
     "output_type": "execute_result"
    }
   ],
   "source": [
    "import pandas as pd\n",
    "import matplotlib.pyplot as plt\n",
    "import numpy as np\n",
    "from datetime import datetime\n",
    "import seaborn as sns\n",
    "%matplotlib inline\n",
    "\n",
    "tweets = pd.read_csv(\"tweets.csv\")\n",
    "tweets.shape"
   ]
  },
  {
   "cell_type": "code",
   "execution_count": 3,
   "metadata": {
    "collapsed": false
   },
   "outputs": [
    {
     "data": {
      "text/html": [
       "<div>\n",
       "<table border=\"1\" class=\"dataframe\">\n",
       "  <thead>\n",
       "    <tr style=\"text-align: right;\">\n",
       "      <th></th>\n",
       "      <th>id</th>\n",
       "      <th>created</th>\n",
       "      <th>geo</th>\n",
       "      <th>user_name</th>\n",
       "      <th>id_str</th>\n",
       "      <th>coordinates</th>\n",
       "      <th>text</th>\n",
       "      <th>user_followers</th>\n",
       "      <th>subjectivity</th>\n",
       "      <th>user_bg_color</th>\n",
       "      <th>retweet_count</th>\n",
       "      <th>user_location</th>\n",
       "      <th>user_created</th>\n",
       "      <th>user_description</th>\n",
       "      <th>polarity</th>\n",
       "    </tr>\n",
       "  </thead>\n",
       "  <tbody>\n",
       "    <tr>\n",
       "      <th>0</th>\n",
       "      <td>1</td>\n",
       "      <td>2016-08-02T07:26:47</td>\n",
       "      <td>NaN</td>\n",
       "      <td>jfk117</td>\n",
       "      <td>760376282706223104</td>\n",
       "      <td>NaN</td>\n",
       "      <td>RT @andendall: how could people vote for Trump...</td>\n",
       "      <td>706</td>\n",
       "      <td>0.000000</td>\n",
       "      <td>ABB8C2</td>\n",
       "      <td>0</td>\n",
       "      <td>Where I Belong</td>\n",
       "      <td>2008-05-13T20:28:38</td>\n",
       "      <td>I know you'll find a way. Inadvertent sorceres...</td>\n",
       "      <td>0.000000</td>\n",
       "    </tr>\n",
       "    <tr>\n",
       "      <th>1</th>\n",
       "      <td>2</td>\n",
       "      <td>2016-08-02T07:26:47</td>\n",
       "      <td>NaN</td>\n",
       "      <td>kaderadenurface</td>\n",
       "      <td>760376282865668096</td>\n",
       "      <td>NaN</td>\n",
       "      <td>RT @benswasey: Gallup finds the RNC was a net ...</td>\n",
       "      <td>2471</td>\n",
       "      <td>0.200000</td>\n",
       "      <td>000000</td>\n",
       "      <td>0</td>\n",
       "      <td>New York, NY</td>\n",
       "      <td>2010-08-30T03:21:35</td>\n",
       "      <td>28. Best Selling, Award Winning M/M Romance Au...</td>\n",
       "      <td>-0.150000</td>\n",
       "    </tr>\n",
       "    <tr>\n",
       "      <th>2</th>\n",
       "      <td>3</td>\n",
       "      <td>2016-08-02T07:26:47</td>\n",
       "      <td>NaN</td>\n",
       "      <td>DMashak</td>\n",
       "      <td>760376283620528128</td>\n",
       "      <td>NaN</td>\n",
       "      <td>RT @herself311: Clinton Delegate Turns Whistle...</td>\n",
       "      <td>92487</td>\n",
       "      <td>0.000000</td>\n",
       "      <td>000000</td>\n",
       "      <td>0</td>\n",
       "      <td>Minneapolis, Minnesota USA</td>\n",
       "      <td>2007-11-13T07:39:53</td>\n",
       "      <td>Don Mashak,The Cynical Patriot #NaturalLaw #Co...</td>\n",
       "      <td>0.000000</td>\n",
       "    </tr>\n",
       "    <tr>\n",
       "      <th>3</th>\n",
       "      <td>4</td>\n",
       "      <td>2016-08-02T07:26:47</td>\n",
       "      <td>NaN</td>\n",
       "      <td>LadyMercia</td>\n",
       "      <td>760376283784151040</td>\n",
       "      <td>NaN</td>\n",
       "      <td>Khizr Khan Attack on Donald Trump Goes Down in...</td>\n",
       "      <td>5985</td>\n",
       "      <td>0.288889</td>\n",
       "      <td>C0DEED</td>\n",
       "      <td>0</td>\n",
       "      <td>ENGLAND GREAT BRITAIN</td>\n",
       "      <td>2014-03-09T16:11:14</td>\n",
       "      <td>Respect To Our Armed Forces Past &amp; Present, Pr...</td>\n",
       "      <td>-0.155556</td>\n",
       "    </tr>\n",
       "    <tr>\n",
       "      <th>4</th>\n",
       "      <td>5</td>\n",
       "      <td>2016-08-02T07:26:47</td>\n",
       "      <td>NaN</td>\n",
       "      <td>DonnaKichmond</td>\n",
       "      <td>760376284182491136</td>\n",
       "      <td>NaN</td>\n",
       "      <td>RT @Ricky_Vaughn99: Clinton Was Director Of Co...</td>\n",
       "      <td>1570</td>\n",
       "      <td>0.000000</td>\n",
       "      <td>C0DEED</td>\n",
       "      <td>0</td>\n",
       "      <td>NaN</td>\n",
       "      <td>2015-09-18T06:29:39</td>\n",
       "      <td>NaN</td>\n",
       "      <td>0.000000</td>\n",
       "    </tr>\n",
       "    <tr>\n",
       "      <th>5</th>\n",
       "      <td>6</td>\n",
       "      <td>2016-08-02T07:26:47</td>\n",
       "      <td>NaN</td>\n",
       "      <td>dbhermosa</td>\n",
       "      <td>760376284258050052</td>\n",
       "      <td>NaN</td>\n",
       "      <td>@trumpopulist They earned the right to speak, ...</td>\n",
       "      <td>20</td>\n",
       "      <td>0.811905</td>\n",
       "      <td>C0DEED</td>\n",
       "      <td>0</td>\n",
       "      <td>NaN</td>\n",
       "      <td>2012-10-17T02:39:15</td>\n",
       "      <td>NaN</td>\n",
       "      <td>0.328571</td>\n",
       "    </tr>\n",
       "    <tr>\n",
       "      <th>6</th>\n",
       "      <td>7</td>\n",
       "      <td>2016-08-02T07:26:47</td>\n",
       "      <td>NaN</td>\n",
       "      <td>CraigieFergie</td>\n",
       "      <td>760376284346195968</td>\n",
       "      <td>NaN</td>\n",
       "      <td>I can't tell the difference between the parody...</td>\n",
       "      <td>532</td>\n",
       "      <td>0.300000</td>\n",
       "      <td>C0DEED</td>\n",
       "      <td>0</td>\n",
       "      <td>Manchester</td>\n",
       "      <td>2012-05-09T20:15:09</td>\n",
       "      <td>Not to be mistaken for the TV host! Walking to...</td>\n",
       "      <td>0.200000</td>\n",
       "    </tr>\n",
       "    <tr>\n",
       "      <th>7</th>\n",
       "      <td>8</td>\n",
       "      <td>2016-08-02T07:26:48</td>\n",
       "      <td>NaN</td>\n",
       "      <td>ZeeNewsLIVE</td>\n",
       "      <td>760376284811816960</td>\n",
       "      <td>NaN</td>\n",
       "      <td>US Presidential Elections: War of words! Why D...</td>\n",
       "      <td>43</td>\n",
       "      <td>0.000000</td>\n",
       "      <td>000000</td>\n",
       "      <td>0</td>\n",
       "      <td>India</td>\n",
       "      <td>2015-10-05T15:27:08</td>\n",
       "      <td>Zee News LIVE - Find Zee News, Zee News India,...</td>\n",
       "      <td>0.000000</td>\n",
       "    </tr>\n",
       "    <tr>\n",
       "      <th>8</th>\n",
       "      <td>9</td>\n",
       "      <td>2016-08-02T07:26:48</td>\n",
       "      <td>NaN</td>\n",
       "      <td>janshappygrub</td>\n",
       "      <td>760376285923160064</td>\n",
       "      <td>NaN</td>\n",
       "      <td>RT @azmoderate: Donald Trump Avoided Draft Wit...</td>\n",
       "      <td>642</td>\n",
       "      <td>0.000000</td>\n",
       "      <td>FFFFFF</td>\n",
       "      <td>0</td>\n",
       "      <td>Los Angeles</td>\n",
       "      <td>2008-08-09T16:47:58</td>\n",
       "      <td>Politics, Foodie, Lover of the Blue Heeler and...</td>\n",
       "      <td>0.000000</td>\n",
       "    </tr>\n",
       "    <tr>\n",
       "      <th>9</th>\n",
       "      <td>10</td>\n",
       "      <td>2016-08-02T07:26:48</td>\n",
       "      <td>NaN</td>\n",
       "      <td>PattyBarden</td>\n",
       "      <td>760376286988476416</td>\n",
       "      <td>NaN</td>\n",
       "      <td>Trump fires at least 2 aides https://t.co/YqXv...</td>\n",
       "      <td>445</td>\n",
       "      <td>0.400000</td>\n",
       "      <td>C0DEED</td>\n",
       "      <td>0</td>\n",
       "      <td>In the DMV</td>\n",
       "      <td>2013-02-21T19:07:36</td>\n",
       "      <td>Your Pattyness, or uh, PaTita or La Patina if ...</td>\n",
       "      <td>-0.300000</td>\n",
       "    </tr>\n",
       "  </tbody>\n",
       "</table>\n",
       "</div>"
      ],
      "text/plain": [
       "   id              created  geo        user_name              id_str  \\\n",
       "0   1  2016-08-02T07:26:47  NaN           jfk117  760376282706223104   \n",
       "1   2  2016-08-02T07:26:47  NaN  kaderadenurface  760376282865668096   \n",
       "2   3  2016-08-02T07:26:47  NaN          DMashak  760376283620528128   \n",
       "3   4  2016-08-02T07:26:47  NaN       LadyMercia  760376283784151040   \n",
       "4   5  2016-08-02T07:26:47  NaN    DonnaKichmond  760376284182491136   \n",
       "5   6  2016-08-02T07:26:47  NaN        dbhermosa  760376284258050052   \n",
       "6   7  2016-08-02T07:26:47  NaN    CraigieFergie  760376284346195968   \n",
       "7   8  2016-08-02T07:26:48  NaN      ZeeNewsLIVE  760376284811816960   \n",
       "8   9  2016-08-02T07:26:48  NaN    janshappygrub  760376285923160064   \n",
       "9  10  2016-08-02T07:26:48  NaN      PattyBarden  760376286988476416   \n",
       "\n",
       "  coordinates                                               text  \\\n",
       "0         NaN  RT @andendall: how could people vote for Trump...   \n",
       "1         NaN  RT @benswasey: Gallup finds the RNC was a net ...   \n",
       "2         NaN  RT @herself311: Clinton Delegate Turns Whistle...   \n",
       "3         NaN  Khizr Khan Attack on Donald Trump Goes Down in...   \n",
       "4         NaN  RT @Ricky_Vaughn99: Clinton Was Director Of Co...   \n",
       "5         NaN  @trumpopulist They earned the right to speak, ...   \n",
       "6         NaN  I can't tell the difference between the parody...   \n",
       "7         NaN  US Presidential Elections: War of words! Why D...   \n",
       "8         NaN  RT @azmoderate: Donald Trump Avoided Draft Wit...   \n",
       "9         NaN  Trump fires at least 2 aides https://t.co/YqXv...   \n",
       "\n",
       "   user_followers  subjectivity user_bg_color  retweet_count  \\\n",
       "0             706      0.000000        ABB8C2              0   \n",
       "1            2471      0.200000        000000              0   \n",
       "2           92487      0.000000        000000              0   \n",
       "3            5985      0.288889        C0DEED              0   \n",
       "4            1570      0.000000        C0DEED              0   \n",
       "5              20      0.811905        C0DEED              0   \n",
       "6             532      0.300000        C0DEED              0   \n",
       "7              43      0.000000        000000              0   \n",
       "8             642      0.000000        FFFFFF              0   \n",
       "9             445      0.400000        C0DEED              0   \n",
       "\n",
       "                user_location         user_created  \\\n",
       "0              Where I Belong  2008-05-13T20:28:38   \n",
       "1                New York, NY  2010-08-30T03:21:35   \n",
       "2  Minneapolis, Minnesota USA  2007-11-13T07:39:53   \n",
       "3       ENGLAND GREAT BRITAIN  2014-03-09T16:11:14   \n",
       "4                         NaN  2015-09-18T06:29:39   \n",
       "5                         NaN  2012-10-17T02:39:15   \n",
       "6                  Manchester  2012-05-09T20:15:09   \n",
       "7                       India  2015-10-05T15:27:08   \n",
       "8                 Los Angeles  2008-08-09T16:47:58   \n",
       "9                 In the DMV   2013-02-21T19:07:36   \n",
       "\n",
       "                                    user_description  polarity  \n",
       "0  I know you'll find a way. Inadvertent sorceres...  0.000000  \n",
       "1  28. Best Selling, Award Winning M/M Romance Au... -0.150000  \n",
       "2  Don Mashak,The Cynical Patriot #NaturalLaw #Co...  0.000000  \n",
       "3  Respect To Our Armed Forces Past & Present, Pr... -0.155556  \n",
       "4                                                NaN  0.000000  \n",
       "5                                                NaN  0.328571  \n",
       "6  Not to be mistaken for the TV host! Walking to...  0.200000  \n",
       "7  Zee News LIVE - Find Zee News, Zee News India,...  0.000000  \n",
       "8  Politics, Foodie, Lover of the Blue Heeler and...  0.000000  \n",
       "9  Your Pattyness, or uh, PaTita or La Patina if ... -0.300000  "
      ]
     },
     "execution_count": 3,
     "metadata": {},
     "output_type": "execute_result"
    }
   ],
   "source": [
    "tweets.head(10)"
   ]
  },
  {
   "cell_type": "markdown",
   "metadata": {},
   "source": [
    "**Here’s a quick explanation of the important columns in the data:**\n",
    "\n",
    "    id – the id of the row in the database (this isn’t important).\n",
    "    id_str – the id of the tweet on Twitter.\n",
    "    user_location – the location the tweeter specified in their Twitter bio.\n",
    "    user_bg_color – the background color of the tweeter’s profile.\n",
    "    user_name – the Twitter username of the tweeter.\n",
    "    polarity – the sentiment of the tweet, from -1, to 1. 1 indicates strong positivity, -1 strong negativity.\n",
    "    created – when the tweet was sent.\n",
    "    user_description – the description the tweeter specified in their bio.\n",
    "    user_created – when the tweeter created their account.\n",
    "    user_follower – the number of followers the tweeter has.\n",
    "    text – the text of the tweet.\n",
    "    subjectivity – the subjectivity or objectivity of the tweet. 0 is very objective, 1 is very subjective.\n"
   ]
  },
  {
   "cell_type": "code",
   "execution_count": 4,
   "metadata": {
    "collapsed": true
   },
   "outputs": [],
   "source": [
    "def get_candidate(row):\n",
    "    candidates = []\n",
    "    text = row[\"text\"].lower()\n",
    "    if \"clinton\" in text or \"hillary\" in text:\n",
    "        candidates.append(\"Clinton\")\n",
    "    if \"trump\" in text or \"donald\" in text:\n",
    "        candidates.append(\"Trump\")\n",
    "    if \"kaine\" in text or \"tim\" in text:\n",
    "        candidates.append(\"Kain\")\n",
    "    if \"pence\" in text or \"Mike\" in text:\n",
    "        candidates.append(\"Pence\")\n",
    "    return \",\".join(candidates)\n",
    "\n",
    "tweets[\"candidate\"] = tweets.apply(get_candidate,axis=1)"
   ]
  },
  {
   "cell_type": "code",
   "execution_count": 5,
   "metadata": {
    "collapsed": false
   },
   "outputs": [
    {
     "data": {
      "text/html": [
       "<div>\n",
       "<table border=\"1\" class=\"dataframe\">\n",
       "  <thead>\n",
       "    <tr style=\"text-align: right;\">\n",
       "      <th></th>\n",
       "      <th>id</th>\n",
       "      <th>created</th>\n",
       "      <th>geo</th>\n",
       "      <th>user_name</th>\n",
       "      <th>id_str</th>\n",
       "      <th>coordinates</th>\n",
       "      <th>text</th>\n",
       "      <th>user_followers</th>\n",
       "      <th>subjectivity</th>\n",
       "      <th>user_bg_color</th>\n",
       "      <th>retweet_count</th>\n",
       "      <th>user_location</th>\n",
       "      <th>user_created</th>\n",
       "      <th>user_description</th>\n",
       "      <th>polarity</th>\n",
       "      <th>candidate</th>\n",
       "    </tr>\n",
       "  </thead>\n",
       "  <tbody>\n",
       "    <tr>\n",
       "      <th>0</th>\n",
       "      <td>1</td>\n",
       "      <td>2016-08-02T07:26:47</td>\n",
       "      <td>NaN</td>\n",
       "      <td>jfk117</td>\n",
       "      <td>760376282706223104</td>\n",
       "      <td>NaN</td>\n",
       "      <td>RT @andendall: how could people vote for Trump...</td>\n",
       "      <td>706</td>\n",
       "      <td>0.000000</td>\n",
       "      <td>ABB8C2</td>\n",
       "      <td>0</td>\n",
       "      <td>Where I Belong</td>\n",
       "      <td>2008-05-13T20:28:38</td>\n",
       "      <td>I know you'll find a way. Inadvertent sorceres...</td>\n",
       "      <td>0.000000</td>\n",
       "      <td>Trump</td>\n",
       "    </tr>\n",
       "    <tr>\n",
       "      <th>1</th>\n",
       "      <td>2</td>\n",
       "      <td>2016-08-02T07:26:47</td>\n",
       "      <td>NaN</td>\n",
       "      <td>kaderadenurface</td>\n",
       "      <td>760376282865668096</td>\n",
       "      <td>NaN</td>\n",
       "      <td>RT @benswasey: Gallup finds the RNC was a net ...</td>\n",
       "      <td>2471</td>\n",
       "      <td>0.200000</td>\n",
       "      <td>000000</td>\n",
       "      <td>0</td>\n",
       "      <td>New York, NY</td>\n",
       "      <td>2010-08-30T03:21:35</td>\n",
       "      <td>28. Best Selling, Award Winning M/M Romance Au...</td>\n",
       "      <td>-0.150000</td>\n",
       "      <td>Trump</td>\n",
       "    </tr>\n",
       "    <tr>\n",
       "      <th>2</th>\n",
       "      <td>3</td>\n",
       "      <td>2016-08-02T07:26:47</td>\n",
       "      <td>NaN</td>\n",
       "      <td>DMashak</td>\n",
       "      <td>760376283620528128</td>\n",
       "      <td>NaN</td>\n",
       "      <td>RT @herself311: Clinton Delegate Turns Whistle...</td>\n",
       "      <td>92487</td>\n",
       "      <td>0.000000</td>\n",
       "      <td>000000</td>\n",
       "      <td>0</td>\n",
       "      <td>Minneapolis, Minnesota USA</td>\n",
       "      <td>2007-11-13T07:39:53</td>\n",
       "      <td>Don Mashak,The Cynical Patriot #NaturalLaw #Co...</td>\n",
       "      <td>0.000000</td>\n",
       "      <td>Clinton</td>\n",
       "    </tr>\n",
       "    <tr>\n",
       "      <th>3</th>\n",
       "      <td>4</td>\n",
       "      <td>2016-08-02T07:26:47</td>\n",
       "      <td>NaN</td>\n",
       "      <td>LadyMercia</td>\n",
       "      <td>760376283784151040</td>\n",
       "      <td>NaN</td>\n",
       "      <td>Khizr Khan Attack on Donald Trump Goes Down in...</td>\n",
       "      <td>5985</td>\n",
       "      <td>0.288889</td>\n",
       "      <td>C0DEED</td>\n",
       "      <td>0</td>\n",
       "      <td>ENGLAND GREAT BRITAIN</td>\n",
       "      <td>2014-03-09T16:11:14</td>\n",
       "      <td>Respect To Our Armed Forces Past &amp; Present, Pr...</td>\n",
       "      <td>-0.155556</td>\n",
       "      <td>Trump</td>\n",
       "    </tr>\n",
       "    <tr>\n",
       "      <th>4</th>\n",
       "      <td>5</td>\n",
       "      <td>2016-08-02T07:26:47</td>\n",
       "      <td>NaN</td>\n",
       "      <td>DonnaKichmond</td>\n",
       "      <td>760376284182491136</td>\n",
       "      <td>NaN</td>\n",
       "      <td>RT @Ricky_Vaughn99: Clinton Was Director Of Co...</td>\n",
       "      <td>1570</td>\n",
       "      <td>0.000000</td>\n",
       "      <td>C0DEED</td>\n",
       "      <td>0</td>\n",
       "      <td>NaN</td>\n",
       "      <td>2015-09-18T06:29:39</td>\n",
       "      <td>NaN</td>\n",
       "      <td>0.000000</td>\n",
       "      <td>Clinton</td>\n",
       "    </tr>\n",
       "    <tr>\n",
       "      <th>5</th>\n",
       "      <td>6</td>\n",
       "      <td>2016-08-02T07:26:47</td>\n",
       "      <td>NaN</td>\n",
       "      <td>dbhermosa</td>\n",
       "      <td>760376284258050052</td>\n",
       "      <td>NaN</td>\n",
       "      <td>@trumpopulist They earned the right to speak, ...</td>\n",
       "      <td>20</td>\n",
       "      <td>0.811905</td>\n",
       "      <td>C0DEED</td>\n",
       "      <td>0</td>\n",
       "      <td>NaN</td>\n",
       "      <td>2012-10-17T02:39:15</td>\n",
       "      <td>NaN</td>\n",
       "      <td>0.328571</td>\n",
       "      <td>Trump</td>\n",
       "    </tr>\n",
       "    <tr>\n",
       "      <th>6</th>\n",
       "      <td>7</td>\n",
       "      <td>2016-08-02T07:26:47</td>\n",
       "      <td>NaN</td>\n",
       "      <td>CraigieFergie</td>\n",
       "      <td>760376284346195968</td>\n",
       "      <td>NaN</td>\n",
       "      <td>I can't tell the difference between the parody...</td>\n",
       "      <td>532</td>\n",
       "      <td>0.300000</td>\n",
       "      <td>C0DEED</td>\n",
       "      <td>0</td>\n",
       "      <td>Manchester</td>\n",
       "      <td>2012-05-09T20:15:09</td>\n",
       "      <td>Not to be mistaken for the TV host! Walking to...</td>\n",
       "      <td>0.200000</td>\n",
       "      <td>Trump</td>\n",
       "    </tr>\n",
       "    <tr>\n",
       "      <th>7</th>\n",
       "      <td>8</td>\n",
       "      <td>2016-08-02T07:26:48</td>\n",
       "      <td>NaN</td>\n",
       "      <td>ZeeNewsLIVE</td>\n",
       "      <td>760376284811816960</td>\n",
       "      <td>NaN</td>\n",
       "      <td>US Presidential Elections: War of words! Why D...</td>\n",
       "      <td>43</td>\n",
       "      <td>0.000000</td>\n",
       "      <td>000000</td>\n",
       "      <td>0</td>\n",
       "      <td>India</td>\n",
       "      <td>2015-10-05T15:27:08</td>\n",
       "      <td>Zee News LIVE - Find Zee News, Zee News India,...</td>\n",
       "      <td>0.000000</td>\n",
       "      <td>Clinton,Trump</td>\n",
       "    </tr>\n",
       "    <tr>\n",
       "      <th>8</th>\n",
       "      <td>9</td>\n",
       "      <td>2016-08-02T07:26:48</td>\n",
       "      <td>NaN</td>\n",
       "      <td>janshappygrub</td>\n",
       "      <td>760376285923160064</td>\n",
       "      <td>NaN</td>\n",
       "      <td>RT @azmoderate: Donald Trump Avoided Draft Wit...</td>\n",
       "      <td>642</td>\n",
       "      <td>0.000000</td>\n",
       "      <td>FFFFFF</td>\n",
       "      <td>0</td>\n",
       "      <td>Los Angeles</td>\n",
       "      <td>2008-08-09T16:47:58</td>\n",
       "      <td>Politics, Foodie, Lover of the Blue Heeler and...</td>\n",
       "      <td>0.000000</td>\n",
       "      <td>Trump</td>\n",
       "    </tr>\n",
       "    <tr>\n",
       "      <th>9</th>\n",
       "      <td>10</td>\n",
       "      <td>2016-08-02T07:26:48</td>\n",
       "      <td>NaN</td>\n",
       "      <td>PattyBarden</td>\n",
       "      <td>760376286988476416</td>\n",
       "      <td>NaN</td>\n",
       "      <td>Trump fires at least 2 aides https://t.co/YqXv...</td>\n",
       "      <td>445</td>\n",
       "      <td>0.400000</td>\n",
       "      <td>C0DEED</td>\n",
       "      <td>0</td>\n",
       "      <td>In the DMV</td>\n",
       "      <td>2013-02-21T19:07:36</td>\n",
       "      <td>Your Pattyness, or uh, PaTita or La Patina if ...</td>\n",
       "      <td>-0.300000</td>\n",
       "      <td>Trump</td>\n",
       "    </tr>\n",
       "  </tbody>\n",
       "</table>\n",
       "</div>"
      ],
      "text/plain": [
       "   id              created  geo        user_name              id_str  \\\n",
       "0   1  2016-08-02T07:26:47  NaN           jfk117  760376282706223104   \n",
       "1   2  2016-08-02T07:26:47  NaN  kaderadenurface  760376282865668096   \n",
       "2   3  2016-08-02T07:26:47  NaN          DMashak  760376283620528128   \n",
       "3   4  2016-08-02T07:26:47  NaN       LadyMercia  760376283784151040   \n",
       "4   5  2016-08-02T07:26:47  NaN    DonnaKichmond  760376284182491136   \n",
       "5   6  2016-08-02T07:26:47  NaN        dbhermosa  760376284258050052   \n",
       "6   7  2016-08-02T07:26:47  NaN    CraigieFergie  760376284346195968   \n",
       "7   8  2016-08-02T07:26:48  NaN      ZeeNewsLIVE  760376284811816960   \n",
       "8   9  2016-08-02T07:26:48  NaN    janshappygrub  760376285923160064   \n",
       "9  10  2016-08-02T07:26:48  NaN      PattyBarden  760376286988476416   \n",
       "\n",
       "  coordinates                                               text  \\\n",
       "0         NaN  RT @andendall: how could people vote for Trump...   \n",
       "1         NaN  RT @benswasey: Gallup finds the RNC was a net ...   \n",
       "2         NaN  RT @herself311: Clinton Delegate Turns Whistle...   \n",
       "3         NaN  Khizr Khan Attack on Donald Trump Goes Down in...   \n",
       "4         NaN  RT @Ricky_Vaughn99: Clinton Was Director Of Co...   \n",
       "5         NaN  @trumpopulist They earned the right to speak, ...   \n",
       "6         NaN  I can't tell the difference between the parody...   \n",
       "7         NaN  US Presidential Elections: War of words! Why D...   \n",
       "8         NaN  RT @azmoderate: Donald Trump Avoided Draft Wit...   \n",
       "9         NaN  Trump fires at least 2 aides https://t.co/YqXv...   \n",
       "\n",
       "   user_followers  subjectivity user_bg_color  retweet_count  \\\n",
       "0             706      0.000000        ABB8C2              0   \n",
       "1            2471      0.200000        000000              0   \n",
       "2           92487      0.000000        000000              0   \n",
       "3            5985      0.288889        C0DEED              0   \n",
       "4            1570      0.000000        C0DEED              0   \n",
       "5              20      0.811905        C0DEED              0   \n",
       "6             532      0.300000        C0DEED              0   \n",
       "7              43      0.000000        000000              0   \n",
       "8             642      0.000000        FFFFFF              0   \n",
       "9             445      0.400000        C0DEED              0   \n",
       "\n",
       "                user_location         user_created  \\\n",
       "0              Where I Belong  2008-05-13T20:28:38   \n",
       "1                New York, NY  2010-08-30T03:21:35   \n",
       "2  Minneapolis, Minnesota USA  2007-11-13T07:39:53   \n",
       "3       ENGLAND GREAT BRITAIN  2014-03-09T16:11:14   \n",
       "4                         NaN  2015-09-18T06:29:39   \n",
       "5                         NaN  2012-10-17T02:39:15   \n",
       "6                  Manchester  2012-05-09T20:15:09   \n",
       "7                       India  2015-10-05T15:27:08   \n",
       "8                 Los Angeles  2008-08-09T16:47:58   \n",
       "9                 In the DMV   2013-02-21T19:07:36   \n",
       "\n",
       "                                    user_description  polarity      candidate  \n",
       "0  I know you'll find a way. Inadvertent sorceres...  0.000000          Trump  \n",
       "1  28. Best Selling, Award Winning M/M Romance Au... -0.150000          Trump  \n",
       "2  Don Mashak,The Cynical Patriot #NaturalLaw #Co...  0.000000        Clinton  \n",
       "3  Respect To Our Armed Forces Past & Present, Pr... -0.155556          Trump  \n",
       "4                                                NaN  0.000000        Clinton  \n",
       "5                                                NaN  0.328571          Trump  \n",
       "6  Not to be mistaken for the TV host! Walking to...  0.200000          Trump  \n",
       "7  Zee News LIVE - Find Zee News, Zee News India,...  0.000000  Clinton,Trump  \n",
       "8  Politics, Foodie, Lover of the Blue Heeler and...  0.000000          Trump  \n",
       "9  Your Pattyness, or uh, PaTita or La Patina if ... -0.300000          Trump  "
      ]
     },
     "execution_count": 5,
     "metadata": {},
     "output_type": "execute_result"
    }
   ],
   "source": [
    "tweets.head(10)"
   ]
  },
  {
   "cell_type": "markdown",
   "metadata": {},
   "source": [
    "** Search for candidate name in \"text\" append it to a dataframe as a column \"candiadates\"**"
   ]
  },
  {
   "cell_type": "code",
   "execution_count": 13,
   "metadata": {
    "collapsed": false
   },
   "outputs": [
    {
     "data": {
      "image/png": "[encoded data removed]",
      "text/plain": [
       "<matplotlib.figure.Figure at 0x7f08f1f79a90>"
      ]
     },
     "metadata": {},
     "output_type": "display_data"
    },
    {
     "name": "stdout",
     "output_type": "stream",
     "text": [
      "Trump            2261\n",
      "Clinton           647\n",
      "Clinton,Trump     612\n",
      "                  520\n",
      "Trump,Kain        175\n",
      "Trump,Pence        64\n",
      "Clinton,Kain       50\n",
      "Name: candidate, dtype: int64\n"
     ]
    }
   ],
   "source": [
    "counts = tweets[\"candidate\"].value_counts().head(7)\n",
    "labels = [\"Trump\",\"Clinton\",\"Clinton,Trump\",\"Ambiguous\",\"Trump,Kaine\",\"Trump,Pence\",\"Clinton,Kain\"]\n",
    "sns.barplot(labels, counts,palette=\"muted\")\n",
    "\n",
    "plt.xticks(rotation=45)\n",
    "plt.show()\n",
    "\n",
    "print(counts)"
   ]
  },
  {
   "cell_type": "markdown",
   "metadata": {},
   "source": [
    "**Count the number of tweets for candidate combinations, Trump has most number of tweets** "
   ]
  },
  {
   "cell_type": "code",
   "execution_count": 14,
   "metadata": {
    "collapsed": false
   },
   "outputs": [
    {
     "data": {
      "image/png": "[encoded data removed]",
      "text/plain": [
       "<matplotlib.figure.Figure at 0x7f08f1f012e8>"
      ]
     },
     "metadata": {},
     "output_type": "display_data"
    }
   ],
   "source": [
    "tweets[\"created\"] = pd.to_datetime(tweets[\"created\"])\n",
    "tweets[\"user_created\"] = pd.to_datetime(tweets[\"user_created\"])\n",
    "\n",
    "tweets[\"user_age\"] = tweets[\"user_created\"].apply(lambda x: (datetime.now() - x).total_seconds() / 3600 / 24 / 365)\n",
    "plt.hist(tweets[\"user_age\"])\n",
    "plt.title(\"Tweets mentioning candidates\")\n",
    "plt.xlabel(\"Twitter account age in years\")\n",
    "plt.ylabel(\"# of tweets\")\n",
    "plt.show()"
   ]
  },
  {
   "cell_type": "markdown",
   "metadata": {},
   "source": [
    "**This graph gives us a sense of number of tweets vs age of twitter account making the tweet**"
   ]
  },
  {
   "cell_type": "code",
   "execution_count": 15,
   "metadata": {
    "collapsed": false
   },
   "outputs": [
    {
     "data": {
      "image/png": "[encoded data removed]",
      "text/plain": [
       "<matplotlib.figure.Figure at 0x7f0934fa8a20>"
      ]
     },
     "metadata": {},
     "output_type": "display_data"
    }
   ],
   "source": [
    "cl_tweets = tweets[\"user_age\"][tweets[\"candidate\"] == \"Clinton\"]\n",
    "#ck_tweets = tweets[\"user_age\"][tweets[\"candidate\"] == \"Clinton,Kaine\"]\n",
    "tr_tweets = tweets[\"user_age\"][tweets[\"candidate\"] == \"Trump\"]\n",
    "#tp_tweets = tweets[\"user_age\"][tweets[\"candidate\"] == \"Trump,Pence\"]\n",
    "plt.hist([\n",
    "        cl_tweets, \n",
    "        \n",
    "        tr_tweets\n",
    "        \n",
    "    ], \n",
    "    stacked=True,\n",
    "    color=[\"Blue\",\"Red\"],\n",
    "    label=[\"Clinton\", \"Trump\"]\n",
    ")\n",
    "plt.legend()\n",
    "plt.title(\"Tweets mentioning each candidate\")\n",
    "plt.xlabel(\"Twitter account age in years\")\n",
    "plt.ylabel(\"# of tweets\")\n",
    "\n",
    "\n",
    "plt.show()"
   ]
  },
  {
   "cell_type": "markdown",
   "metadata": {},
   "source": [
    "**This map is stacked for number of Clinton tweets vs Trump tweets  as per twitter account age. It is safe to say that for this sample candidate Donald Trump has maximum number of tweets,from the new twitter account holders and again from older 8 year old account holders Thus, the 35-49 year olds are likely to tweet about Trump http://www.pewinternet.org/2009/02/12/twitter-and-status-updating/ as nearly 20% of all twitter users that joint the site in 2008(8 years back)were aged between 25-34. Also 18-29 year olds are much more likely to tweet about Trump as is clear 2016 twitter demographics https://blog.hootsuite.com/top-social-media-sites-matter-to-marketers/ where they make up nearly 37% of the  twitter population**"
   ]
  },
  {
   "cell_type": "code",
   "execution_count": 16,
   "metadata": {
    "collapsed": false
   },
   "outputs": [
    {
     "data": {
      "image/png": "[encoded data removed]",
      "text/plain": [
       "<matplotlib.figure.Figure at 0x7f08f1dde908>"
      ]
     },
     "metadata": {},
     "output_type": "display_data"
    }
   ],
   "source": [
    "\n",
    "ck_tweets = tweets[\"user_age\"][tweets[\"candidate\"] == \"Clinton,Kaine\"]\n",
    "\n",
    "tp_tweets = tweets[\"user_age\"][tweets[\"candidate\"] == \"Trump,Pence\"]\n",
    "plt.hist([\n",
    "        ck_tweets, \n",
    "        \n",
    "        tp_tweets\n",
    "        \n",
    "    ], \n",
    "    stacked=True,\n",
    "    color=[\"Blue\",\"Red\"],\n",
    "    label=[\"Clinton,Kaine\", \"Trump,Pence\"]\n",
    ")\n",
    "plt.legend()\n",
    "plt.title(\"Tweets mentioning each candidate\")\n",
    "plt.xlabel(\"Twitter account age in years\")\n",
    "plt.ylabel(\"# of tweets\")\n",
    "plt.show()"
   ]
  },
  {
   "cell_type": "markdown",
   "metadata": {},
   "source": [
    "** As is clear from the above chart, the Trump-Pence ticket is drawing the most reaction as compared to the Clinton-Kain ticket,we will further look into the polarity of  those reactions **"
   ]
  },
  {
   "cell_type": "code",
   "execution_count": 24,
   "metadata": {
    "collapsed": false
   },
   "outputs": [
    {
     "data": {
      "image/png": "[encoded data removed]",
      "text/plain": [
       "<matplotlib.figure.Figure at 0x7f08f20fa438>"
      ]
     },
     "metadata": {},
     "output_type": "display_data"
    },
    {
     "data": {
      "image/png": "[encoded data removed]",
      "text/plain": [
       "<matplotlib.figure.Figure at 0x7f08f1b907b8>"
      ]
     },
     "metadata": {},
     "output_type": "display_data"
    }
   ],
   "source": [
    "t = tweets[(tweets[\"candidate\"]==\"Clinton\")|(tweets[\"candidate\"]==\"Trump\")|(tweets[\"candidate\"]==\"Clinton,Kain\")|(tweets[\"candidate\"]==\"Trump,Pence\")]\n",
    "\n",
    "gr = t.groupby(\"candidate\").agg([np.mean, np.std])\n",
    "\n",
    "\n",
    "x = [\"Clinton\",\"Clinton,Kain\",\"Trump\",\"Trump,Pence\"]\n",
    "std = gr[\"polarity\"][\"std\"]\n",
    "mean = gr[\"polarity\"][\"mean\"]\n",
    "\n",
    "sns.barplot(x,std)\n",
    "plt.title(\"Standard deviation of tweet sentiment\")\n",
    "\n",
    "plt.show()\n",
    "\n",
    "sns.barplot(x,mean)\n",
    "plt.title(\"Mean Tweet sentiment\")\n",
    "plt.show()\n",
    "\n"
   ]
  },
  {
   "cell_type": "markdown",
   "metadata": {},
   "source": [
    "**Lets look at mean first, We can see that almost all comments about trump are negative since the mean is closer to zero,However an interesting point to note is that Trump-Pence ticket choice is appreciated a lot more than Clinton-Kain. Will it come down to the choce of VP between Clinton and Trump? It remains to be seen as the above mean is just a random sample mean. \n**",
    "**With the Standard Deviation chart we can see that our data collected is not very dispersed,we will need to collected more data to qualify the Mean chart  **"
   ]
  },
  {
   "cell_type": "code",
   "execution_count": 25,
   "metadata": {
    "collapsed": true
   },
   "outputs": [],
   "source": [
    "def tweet_lengths(text):\n",
    "    if len(text) < 100:\n",
    "        return \"short\"\n",
    "    elif 100 <= len(text) <= 135:\n",
    "        return \"medium\"\n",
    "    else:\n",
    "        return \"long\"\n",
    "\n",
    "tweets[\"tweet_length\"] = tweets[\"text\"].apply(tweet_lengths)\n",
    "\n",
    "tl = {}\n",
    "for candidate in [\"Clinton\",\"Trump\"]:\n",
    "    tl[candidate] = tweets[\"tweet_length\"][tweets[\"candidate\"] == candidate].value_counts()"
   ]
  },
  {
   "cell_type": "code",
   "execution_count": 26,
   "metadata": {
    "collapsed": false
   },
   "outputs": [
    {
     "data": {
      "image/png": "[encoded data removed]",
      "text/plain": [
       "<matplotlib.figure.Figure at 0x7f08f1ba7f98>"
      ]
     },
     "metadata": {},
     "output_type": "display_data"
    }
   ],
   "source": [
    "fig, ax = plt.subplots()\n",
    "width = .5\n",
    "x = np.array(range(0, 6, 2))\n",
    "ax.bar(x, tl[\"Clinton\"], width, color='b')\n",
    "\n",
    "ax.bar(x + (width), tl[\"Trump\"], width, color='r')\n",
    "\n",
    "ax.set_ylabel('# of tweets')\n",
    "ax.set_title('Number of Tweets per candidate by length')\n",
    "ax.set_xticks(x + (width * 1.5))\n",
    "ax.set_xticklabels(('long', 'medium', 'short'))\n",
    "ax.set_xlabel('Tweet length')\n",
    "plt.show()"
   ]
  },
  {
   "cell_type": "markdown",
   "metadata": {
    "collapsed": true
   },
   "source": [
    "**We can see from above chart that the longest tweets  are for candidate Donald  **"
   ]
  },
  {
   "cell_type": "code",
   "execution_count": null,
   "metadata": {
    "collapsed": true
   },
   "outputs": [],
   "source": []
  }
 ],
 "metadata": {
  "anaconda-cloud": {},
  "kernelspec": {
   "display_name": "Python [Root]",
   "language": "python",
   "name": "Python [Root]"
  },
  "language_info": {
   "codemirror_mode": {
    "name": "ipython",
    "version": 3
   },
   "file_extension": ".py",
   "mimetype": "text/x-python",
   "name": "python",
   "nbconvert_exporter": "python",
   "pygments_lexer": "ipython3",
   "version": "3.5.1"
  }
 },
 "nbformat": 4,
 "nbformat_minor": 0
}
